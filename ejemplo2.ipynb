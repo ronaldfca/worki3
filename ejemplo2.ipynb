{
 "cells": [
  {
   "cell_type": "code",
   "execution_count": 2,
   "metadata": {},
   "outputs": [],
   "source": [
    "# Importar las librerias necesarias\n",
    "from bs4 import BeautifulSoup\n",
    "import requests\n",
    "\n",
    "# Realizar la solicitud a la página de Diario Financiero\n",
    "r = requests.get('https://www.df.cl/')\n",
    "\n",
    "# Crear el objeto BeautifulSoup para parsear el contenido de la página\n",
    "soup = BeautifulSoup(r.content, 'html.parser')\n",
    "\n",
    "# Buscar en el HTML de la página los titulares de noticias\n",
    "titulares = soup.find_all('h2', class_='p-headline__title')\n",
    "\n",
    "# Iterar sobre los titulares de noticias y extraer su texto\n",
    "for titular in titulares:\n",
    "    texto = titular.text\n",
    "    # Imprimir el texto del titular\n",
    "    print(texto)"
   ]
  }
 ],
 "metadata": {
  "kernelspec": {
   "display_name": "Python 3.10.8 64-bit (microsoft store)",
   "language": "python",
   "name": "python3"
  },
  "language_info": {
   "codemirror_mode": {
    "name": "ipython",
    "version": 3
   },
   "file_extension": ".py",
   "mimetype": "text/x-python",
   "name": "python",
   "nbconvert_exporter": "python",
   "pygments_lexer": "ipython3",
   "version": "3.10.8"
  },
  "orig_nbformat": 4,
  "vscode": {
   "interpreter": {
    "hash": "55a808d16bf328e86a0bb0594659d349c68917da1cea92407dc92d39412f9ec9"
   }
  }
 },
 "nbformat": 4,
 "nbformat_minor": 2
}
